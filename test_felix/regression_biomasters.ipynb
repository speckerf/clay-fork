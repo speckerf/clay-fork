{
 "cells": [
  {
   "cell_type": "code",
   "execution_count": 2,
   "id": "25217d0f-3e93-43e9-8d4b-4230a2222d58",
   "metadata": {},
   "outputs": [],
   "source": [
    "# !`huggingface-cli download --repo-type=dataset nascetti-a/BioMassters`"
   ]
  },
  {
   "cell_type": "code",
   "execution_count": null,
   "id": "bfc71919-d0fb-471e-857b-5c9689cfcd4a",
   "metadata": {},
   "outputs": [],
   "source": []
  }
 ],
 "metadata": {
  "kernelspec": {
   "display_name": "Python 3 (ipykernel)",
   "language": "python",
   "name": "python3"
  },
  "language_info": {
   "codemirror_mode": {
    "name": "ipython",
    "version": 3
   },
   "file_extension": ".py",
   "mimetype": "text/x-python",
   "name": "python",
   "nbconvert_exporter": "python",
   "pygments_lexer": "ipython3",
   "version": "3.11.9"
  }
 },
 "nbformat": 4,
 "nbformat_minor": 5
}
